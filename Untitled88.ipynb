{
  "nbformat": 4,
  "nbformat_minor": 0,
  "metadata": {
    "colab": {
      "private_outputs": true,
      "provenance": []
    },
    "kernelspec": {
      "name": "python3",
      "display_name": "Python 3"
    },
    "language_info": {
      "name": "python"
    }
  },
  "cells": [
    {
      "cell_type": "code",
      "source": [
        "!pip install imageio-ffmpeg"
      ],
      "metadata": {
        "id": "sa04Q6oxJerk"
      },
      "execution_count": null,
      "outputs": []
    },
    {
      "cell_type": "code",
      "source": [
        "# Contoh penggunaan\n",
        "gif_url = \"https://i0.wp.com/education.civitai.com/wp-content/uploads/2023/11/animatediff_gif_inner_reflections_AI.gif?resize=600%2C338&ssl=1\""
      ],
      "metadata": {
        "id": "i_5RxBlfNDox"
      },
      "execution_count": null,
      "outputs": []
    },
    {
      "cell_type": "code",
      "execution_count": null,
      "metadata": {
        "id": "qrd4_Fz3IH4x"
      },
      "outputs": [],
      "source": [
        "import requests\n",
        "import imageio\n",
        "import os\n",
        "\n",
        "def download_gif(url, save_path):\n",
        "    try:\n",
        "        response = requests.get(url)\n",
        "        response.raise_for_status()  # Raises an HTTPError for bad responses\n",
        "\n",
        "        with open(save_path, 'wb') as file:\n",
        "            file.write(response.content)\n",
        "\n",
        "        print(f\"File downloaded successfully: {save_path}\")\n",
        "    except requests.exceptions.RequestException as e:\n",
        "        print(f\"Error downloading file: {e}\")\n",
        "\n",
        "def convert_gif_to_mp4(gif_path, mp4_path, fps=10):\n",
        "    try:\n",
        "        with imageio.get_reader(gif_path) as reader, imageio.get_writer(mp4_path, fps=fps) as writer:\n",
        "            for frame in reader:\n",
        "                writer.append_data(frame)\n",
        "\n",
        "        print(f\"Conversion successful: {mp4_path}\")\n",
        "    except Exception as e:\n",
        "        print(f\"Error converting GIF to MP4: {e}\")\n",
        "\n",
        "# Membuat nama file baru dengan nomor urut\n",
        "counter = 1\n",
        "base_path = \"video-download\"\n",
        "gif_extension = \".gif\"\n",
        "mp4_extension = \".mp4\"\n",
        "\n",
        "while os.path.exists(f\"{base_path}{counter}{gif_extension}\"):\n",
        "    counter += 1\n",
        "\n",
        "downloaded_gif_path = f\"{base_path}{counter}{gif_extension}\"\n",
        "output_mp4_path = f\"{base_path}{counter}{mp4_extension}\"\n",
        "\n",
        "download_gif(gif_url, downloaded_gif_path)\n",
        "convert_gif_to_mp4(downloaded_gif_path, output_mp4_path)\n"
      ]
    }
  ]
}